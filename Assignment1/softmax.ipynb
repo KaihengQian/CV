{
 "cells": [
  {
   "cell_type": "markdown",
   "metadata": {
    "tags": [
     "pdf-title"
    ]
   },
   "source": [
    "# Softmax 练习\n",
    "\n",
    "*补充并完成本练习。*\n",
    "\n",
    "本练习类似于SVM练习，你要完成的事情包括:\n",
    "\n",
    "- 为Softmax分类器实现完全矢量化的**损失函数**\n",
    "- 实现其**解析梯度（analytic gradient）**的完全矢量化表达式\n",
    "- 用数值梯度**检查你的代码**\n",
    "- 使用验证集**调整学习率和正则化强度**\n",
    "- 使用**SGD优化**损失函数\n",
    "- **可视化**最终学习的权重\n"
   ]
  },
  {
   "cell_type": "code",
   "execution_count": 1,
   "metadata": {
    "tags": [
     "pdf-ignore"
    ]
   },
   "outputs": [],
   "source": [
    "import random\n",
    "import numpy as np\n",
    "from daseCV.data_utils import load_CIFAR10\n",
    "import matplotlib.pyplot as plt\n",
    "\n",
    "%matplotlib inline\n",
    "plt.rcParams['figure.figsize'] = (10.0, 8.0) # set default size of plots\n",
    "plt.rcParams['image.interpolation'] = 'nearest'\n",
    "plt.rcParams['image.cmap'] = 'gray'\n",
    "\n",
    "# for auto-reloading extenrnal modules\n",
    "# see http://stackoverflow.com/questions/1907993/autoreload-of-modules-in-ipython\n",
    "%load_ext autoreload\n",
    "%autoreload 2"
   ]
  },
  {
   "cell_type": "code",
   "execution_count": 2,
   "metadata": {
    "tags": [
     "pdf-ignore"
    ]
   },
   "outputs": [
    {
     "name": "stdout",
     "output_type": "stream",
     "text": [
      "Train data shape:  (49000, 3073)\n",
      "Train labels shape:  (49000,)\n",
      "Validation data shape:  (1000, 3073)\n",
      "Validation labels shape:  (1000,)\n",
      "Test data shape:  (1000, 3073)\n",
      "Test labels shape:  (1000,)\n",
      "dev data shape:  (500, 3073)\n",
      "dev labels shape:  (500,)\n"
     ]
    }
   ],
   "source": [
    "def get_CIFAR10_data(num_training=49000, num_validation=1000, num_test=1000, num_dev=500):\n",
    "    \"\"\"\n",
    "    Load the CIFAR-10 dataset from disk and perform preprocessing to prepare\n",
    "    it for the linear classifier. These are the same steps as we used for the\n",
    "    SVM, but condensed to a single function.  \n",
    "    \"\"\"\n",
    "    # Load the raw CIFAR-10 data\n",
    "    cifar10_dir = 'daseCV/datasets/cifar-10-batches-py'\n",
    "    \n",
    "    # Cleaning up variables to prevent loading data multiple times (which may cause memory issue)\n",
    "    try:\n",
    "       del X_train, y_train\n",
    "       del X_test, y_test\n",
    "       print('Clear previously loaded data.')\n",
    "    except:\n",
    "       pass\n",
    "\n",
    "    X_train, y_train, X_test, y_test = load_CIFAR10(cifar10_dir)\n",
    "    \n",
    "    # subsample the data\n",
    "    mask = list(range(num_training, num_training + num_validation))\n",
    "    X_val = X_train[mask]\n",
    "    y_val = y_train[mask]\n",
    "    mask = list(range(num_training))\n",
    "    X_train = X_train[mask]\n",
    "    y_train = y_train[mask]\n",
    "    mask = list(range(num_test))\n",
    "    X_test = X_test[mask]\n",
    "    y_test = y_test[mask]\n",
    "    mask = np.random.choice(num_training, num_dev, replace=False)\n",
    "    X_dev = X_train[mask]\n",
    "    y_dev = y_train[mask]\n",
    "    \n",
    "    # Preprocessing: reshape the image data into rows\n",
    "    X_train = np.reshape(X_train, (X_train.shape[0], -1))\n",
    "    X_val = np.reshape(X_val, (X_val.shape[0], -1))\n",
    "    X_test = np.reshape(X_test, (X_test.shape[0], -1))\n",
    "    X_dev = np.reshape(X_dev, (X_dev.shape[0], -1))\n",
    "    \n",
    "    # Normalize the data: subtract the mean image\n",
    "    mean_image = np.mean(X_train, axis = 0)\n",
    "    X_train -= mean_image\n",
    "    X_val -= mean_image\n",
    "    X_test -= mean_image\n",
    "    X_dev -= mean_image\n",
    "    \n",
    "    # add bias dimension and transform into columns\n",
    "    X_train = np.hstack([X_train, np.ones((X_train.shape[0], 1))])\n",
    "    X_val = np.hstack([X_val, np.ones((X_val.shape[0], 1))])\n",
    "    X_test = np.hstack([X_test, np.ones((X_test.shape[0], 1))])\n",
    "    X_dev = np.hstack([X_dev, np.ones((X_dev.shape[0], 1))])\n",
    "    \n",
    "    return X_train, y_train, X_val, y_val, X_test, y_test, X_dev, y_dev\n",
    "\n",
    "\n",
    "# Invoke the above function to get our data.\n",
    "X_train, y_train, X_val, y_val, X_test, y_test, X_dev, y_dev = get_CIFAR10_data()\n",
    "print('Train data shape: ', X_train.shape)\n",
    "print('Train labels shape: ', y_train.shape)\n",
    "print('Validation data shape: ', X_val.shape)\n",
    "print('Validation labels shape: ', y_val.shape)\n",
    "print('Test data shape: ', X_test.shape)\n",
    "print('Test labels shape: ', y_test.shape)\n",
    "print('dev data shape: ', X_dev.shape)\n",
    "print('dev labels shape: ', y_dev.shape)"
   ]
  },
  {
   "cell_type": "markdown",
   "metadata": {},
   "source": [
    "## Softmax 分类器\n",
    "\n",
    "请在**daseCV/classifiers/softmax.py**中完成本节的代码。"
   ]
  },
  {
   "cell_type": "code",
   "execution_count": null,
   "metadata": {},
   "outputs": [],
   "source": [
    "# 首先使用嵌套循环实现简单的softmax损失函数。\n",
    "# 打开文件 daseCV/classifiers/softmax.py 并补充完成\n",
    "# softmax_loss_naive 函数.\n",
    "\n",
    "from daseCV.classifiers.softmax import softmax_loss_naive\n",
    "import time\n",
    "\n",
    "# 生成一个随机的softmax权重矩阵，并使用它来计算损失。\n",
    "W = np.random.randn(3073, 10) * 0.0001\n",
    "loss, grad = softmax_loss_naive(W, X_dev, y_dev, 0.0)\n",
    "\n",
    "# As a rough sanity check, our loss should be something close to -log(0.1).\n",
    "print('loss: %f' % loss)\n",
    "print('sanity check: %f' % (-np.log(0.1)))"
   ]
  },
  {
   "cell_type": "markdown",
   "metadata": {
    "tags": [
     "pdf-inline"
    ]
   },
   "source": [
    "**问题 1**\n",
    "\n",
    "\n",
    "为什么我们期望损失接近-log（0.1）？简要说明。\n",
    "\n",
    "$\\color{blue}{\\textit 答:}$ *因为输入数据共有10类，而使用的softmax权重矩阵是随机生成的且矩阵值很小，所以在预测图像类别时，接近于从10个类别中随机选择，因此期望预测准确率为0.1，所以期望损失接近-log（0.1）。* \n",
    "\n"
   ]
  },
  {
   "cell_type": "code",
   "execution_count": 4,
   "metadata": {},
   "outputs": [
    {
     "name": "stdout",
     "output_type": "stream",
     "text": [
      "numerical: 0.551577 analytic: 0.551577, relative error: 9.814062e-09\n",
      "numerical: 1.336112 analytic: 1.336111, relative error: 4.588922e-08\n",
      "numerical: -0.638078 analytic: -0.638078, relative error: 1.208100e-07\n",
      "numerical: 1.548644 analytic: 1.548644, relative error: 7.901156e-09\n",
      "numerical: -0.926155 analytic: -0.926155, relative error: 4.567679e-08\n",
      "numerical: 0.117447 analytic: 0.117447, relative error: 7.096929e-07\n",
      "numerical: -4.956643 analytic: -4.956643, relative error: 5.212582e-09\n",
      "numerical: 0.095010 analytic: 0.095010, relative error: 4.218716e-07\n",
      "numerical: 2.458320 analytic: 2.458320, relative error: 8.896537e-09\n",
      "numerical: -0.194659 analytic: -0.194659, relative error: 1.589420e-07\n",
      "numerical: 0.906134 analytic: 0.906134, relative error: 4.906966e-08\n",
      "numerical: 0.679198 analytic: 0.679198, relative error: 1.096685e-07\n",
      "numerical: 2.486053 analytic: 2.486053, relative error: 1.898996e-08\n",
      "numerical: 0.018842 analytic: 0.018842, relative error: 1.135823e-06\n",
      "numerical: -0.893978 analytic: -0.893978, relative error: 2.658758e-08\n",
      "numerical: -4.993578 analytic: -4.993578, relative error: 8.466647e-09\n",
      "numerical: 1.188206 analytic: 1.188206, relative error: 8.001386e-09\n",
      "numerical: -2.132657 analytic: -2.132657, relative error: 2.093251e-08\n",
      "numerical: -0.317171 analytic: -0.317171, relative error: 3.250634e-08\n",
      "numerical: -0.129324 analytic: -0.129324, relative error: 7.334833e-08\n"
     ]
    }
   ],
   "source": [
    "# 完成softmax_loss_naive，并实现使用嵌套循环的梯度的版本(naive)。\n",
    "loss, grad = softmax_loss_naive(W, X_dev, y_dev, 0.0)\n",
    "\n",
    "# 就像SVM那样，请使用数值梯度检查作为调试工具。\n",
    "# 数值梯度应接近分析梯度。\n",
    "from daseCV.gradient_check import grad_check_sparse\n",
    "f = lambda w: softmax_loss_naive(w, X_dev, y_dev, 0.0)[0]\n",
    "grad_numerical = grad_check_sparse(f, W, grad, 10)\n",
    "\n",
    "# 与SVM情况类似，使用正则化进行另一个梯度检查\n",
    "loss, grad = softmax_loss_naive(W, X_dev, y_dev, 5e1)\n",
    "f = lambda w: softmax_loss_naive(w, X_dev, y_dev, 5e1)[0]\n",
    "grad_numerical = grad_check_sparse(f, W, grad, 10)"
   ]
  },
  {
   "cell_type": "code",
   "execution_count": 5,
   "metadata": {},
   "outputs": [
    {
     "name": "stdout",
     "output_type": "stream",
     "text": [
      "naive loss: 2.377641e+00 computed in 0.883880s\n",
      "vectorized loss: 2.377641e+00 computed in 0.094105s\n",
      "Loss difference: 0.000000\n",
      "Gradient difference: 0.000000\n"
     ]
    }
   ],
   "source": [
    "# 现在，我们有了softmax损失函数及其梯度的简单实现，\n",
    "# 接下来要在 softmax_loss_vectorized 中完成一个向量化版本.\n",
    "# 这两个版本应计算出相同的结果，但矢量化版本应更快。\n",
    "tic = time.time()\n",
    "loss_naive, grad_naive = softmax_loss_naive(W, X_dev, y_dev, 0.000005)\n",
    "toc = time.time()\n",
    "print('naive loss: %e computed in %fs' % (loss_naive, toc - tic))\n",
    "\n",
    "from daseCV.classifiers.softmax import softmax_loss_vectorized\n",
    "tic = time.time()\n",
    "loss_vectorized, grad_vectorized = softmax_loss_vectorized(W, X_dev, y_dev, 0.000005)\n",
    "toc = time.time()\n",
    "print('vectorized loss: %e computed in %fs' % (loss_vectorized, toc - tic))\n",
    "\n",
    "# 正如前面在SVM练习中所做的一样，我们使用Frobenius范数比较两个版本梯度。\n",
    "grad_difference = np.linalg.norm(grad_naive - grad_vectorized, ord='fro')\n",
    "print('Loss difference: %f' % np.abs(loss_naive - loss_vectorized))\n",
    "print('Gradient difference: %f' % grad_difference)"
   ]
  },
  {
   "cell_type": "code",
   "execution_count": 13,
   "metadata": {
    "tags": [
     "code"
    ]
   },
   "outputs": [
    {
     "name": "stdout",
     "output_type": "stream",
     "text": [
      "lr 3.500000e-07 reg 8.000000e+03 train accuracy: 0.378224 val accuracy: 0.390000\n",
      "lr 3.500000e-07 reg 9.000000e+03 train accuracy: 0.374939 val accuracy: 0.390000\n",
      "lr 3.500000e-07 reg 1.000000e+04 train accuracy: 0.372102 val accuracy: 0.385000\n",
      "lr 3.500000e-07 reg 1.100000e+04 train accuracy: 0.370816 val accuracy: 0.383000\n",
      "lr 3.500000e-07 reg 1.200000e+04 train accuracy: 0.369265 val accuracy: 0.384000\n",
      "lr 3.700000e-07 reg 8.000000e+03 train accuracy: 0.375449 val accuracy: 0.396000\n",
      "lr 3.700000e-07 reg 9.000000e+03 train accuracy: 0.374184 val accuracy: 0.384000\n",
      "lr 3.700000e-07 reg 1.000000e+04 train accuracy: 0.374755 val accuracy: 0.382000\n",
      "lr 3.700000e-07 reg 1.100000e+04 train accuracy: 0.371122 val accuracy: 0.389000\n",
      "lr 3.700000e-07 reg 1.200000e+04 train accuracy: 0.367122 val accuracy: 0.372000\n",
      "lr 3.900000e-07 reg 8.000000e+03 train accuracy: 0.374633 val accuracy: 0.386000\n",
      "lr 3.900000e-07 reg 9.000000e+03 train accuracy: 0.370245 val accuracy: 0.363000\n",
      "lr 3.900000e-07 reg 1.000000e+04 train accuracy: 0.371633 val accuracy: 0.386000\n",
      "lr 3.900000e-07 reg 1.100000e+04 train accuracy: 0.370143 val accuracy: 0.381000\n",
      "lr 3.900000e-07 reg 1.200000e+04 train accuracy: 0.369163 val accuracy: 0.383000\n",
      "lr 4.100000e-07 reg 8.000000e+03 train accuracy: 0.377041 val accuracy: 0.386000\n",
      "lr 4.100000e-07 reg 9.000000e+03 train accuracy: 0.375061 val accuracy: 0.383000\n",
      "lr 4.100000e-07 reg 1.000000e+04 train accuracy: 0.371449 val accuracy: 0.388000\n",
      "lr 4.100000e-07 reg 1.100000e+04 train accuracy: 0.372816 val accuracy: 0.388000\n",
      "lr 4.100000e-07 reg 1.200000e+04 train accuracy: 0.364980 val accuracy: 0.385000\n",
      "lr 4.300000e-07 reg 8.000000e+03 train accuracy: 0.379367 val accuracy: 0.382000\n",
      "lr 4.300000e-07 reg 9.000000e+03 train accuracy: 0.375490 val accuracy: 0.390000\n",
      "lr 4.300000e-07 reg 1.000000e+04 train accuracy: 0.371061 val accuracy: 0.381000\n",
      "lr 4.300000e-07 reg 1.100000e+04 train accuracy: 0.374265 val accuracy: 0.389000\n",
      "lr 4.300000e-07 reg 1.200000e+04 train accuracy: 0.366796 val accuracy: 0.383000\n",
      "lr 4.500000e-07 reg 8.000000e+03 train accuracy: 0.375490 val accuracy: 0.389000\n",
      "lr 4.500000e-07 reg 9.000000e+03 train accuracy: 0.376122 val accuracy: 0.387000\n",
      "lr 4.500000e-07 reg 1.000000e+04 train accuracy: 0.370633 val accuracy: 0.375000\n",
      "lr 4.500000e-07 reg 1.100000e+04 train accuracy: 0.369898 val accuracy: 0.368000\n",
      "lr 4.500000e-07 reg 1.200000e+04 train accuracy: 0.370306 val accuracy: 0.385000\n",
      "best validation accuracy achieved during cross-validation: 0.396000\n"
     ]
    }
   ],
   "source": [
    "# 使用验证集调整超参数（正则化强度和学习率）。您应该尝试不同的学习率和正则化强度范围; \n",
    "# 如果您小心的话，您应该能够在验证集上获得超过0.35的精度。\n",
    "from daseCV.classifiers import Softmax\n",
    "results = {}\n",
    "best_val = -1\n",
    "best_softmax = None\n",
    "learning_rates = np.linspace(3.5e-7, 4.5e-7, 6)  # 逐步缩小范围\n",
    "regularization_strengths = np.linspace(0.8e4, 1.2e4, 5)  # 逐步缩小范围\n",
    "\n",
    "################################################################################\n",
    "# 需要完成的事:                                                                        \n",
    "# 对验证集设置学习率和正则化强度。\n",
    "# 这与之前SVM中做的类似；\n",
    "# 保存训练效果最好的softmax分类器到best_softmax中。\n",
    "################################################################################\n",
    "# *****START OF YOUR CODE (DO NOT DELETE/MODIFY THIS LINE)*****\n",
    "\n",
    "for lr in learning_rates:\n",
    "    for rs in regularization_strengths:\n",
    "        softmax = Softmax()\n",
    "        softmax.train(X_train, y_train, lr, rs, num_iters=1000)\n",
    "        \n",
    "        y_train_pred = softmax.predict(X_train)\n",
    "        train_accuracy = np.mean(y_train == y_train_pred)\n",
    "        y_val_pred = softmax.predict(X_val)\n",
    "        val_accuracy = np.mean(y_val == y_val_pred)\n",
    "        results[(lr, rs)] = train_accuracy, val_accuracy\n",
    "        \n",
    "        if val_accuracy > best_val:\n",
    "            best_val = val_accuracy\n",
    "            best_softmax = softmax\n",
    "\n",
    "# *****END OF YOUR CODE (DO NOT DELETE/MODIFY THIS LINE)*****\n",
    "    \n",
    "# Print out results.\n",
    "for lr, reg in sorted(results):\n",
    "    train_accuracy, val_accuracy = results[(lr, reg)]\n",
    "    print('lr %e reg %e train accuracy: %f val accuracy: %f' % (\n",
    "                lr, reg, train_accuracy, val_accuracy))\n",
    "    \n",
    "print('best validation accuracy achieved during cross-validation: %f' % best_val)  # lr 4.000000e-07 reg 1.000000e+04"
   ]
  },
  {
   "cell_type": "code",
   "execution_count": 7,
   "metadata": {},
   "outputs": [
    {
     "name": "stdout",
     "output_type": "stream",
     "text": [
      "num_iters 1.600000e+03 train accuracy: 0.406898 val accuracy: 0.397000\n",
      "num_iters 1.800000e+03 train accuracy: 0.404735 val accuracy: 0.399000\n",
      "num_iters 2.000000e+03 train accuracy: 0.407408 val accuracy: 0.398000\n",
      "num_iters 2.200000e+03 train accuracy: 0.408735 val accuracy: 0.410000\n",
      "num_iters 2.400000e+03 train accuracy: 0.412551 val accuracy: 0.407000\n",
      "best validation accuracy achieved during cross-validation: 0.410000\n"
     ]
    }
   ],
   "source": [
    "from daseCV.classifiers import Softmax\n",
    "results = {}\n",
    "best_val = -1\n",
    "best_softmax = None\n",
    "\n",
    "lr = 1e-06\n",
    "rs = 1e+03\n",
    "num_iters = [1600, 1800, 2000, 2200, 2400]\n",
    "\n",
    "for ni in num_iters:\n",
    "    softmax = Softmax()\n",
    "    softmax.train(X_train, y_train, lr, rs, num_iters=ni)\n",
    "        \n",
    "    y_train_pred = softmax.predict(X_train)\n",
    "    train_accuracy = np.mean(y_train == y_train_pred)\n",
    "    y_val_pred = softmax.predict(X_val)\n",
    "    val_accuracy = np.mean(y_val == y_val_pred)\n",
    "    results[(ni)] = train_accuracy, val_accuracy\n",
    "        \n",
    "    if val_accuracy > best_val:\n",
    "        best_val = val_accuracy\n",
    "        best_softmax = softmax\n",
    "\n",
    "for ni in sorted(results):\n",
    "    train_accuracy, val_accuracy = results[(ni)]\n",
    "    print('num_iters %e train accuracy: %f val accuracy: %f' % (\n",
    "                ni, train_accuracy, val_accuracy))\n",
    "    \n",
    "print('best validation accuracy achieved during cross-validation: %f' % best_val)"
   ]
  },
  {
   "cell_type": "code",
   "execution_count": 4,
   "metadata": {},
   "outputs": [
    {
     "name": "stdout",
     "output_type": "stream",
     "text": [
      "softmax on raw pixels final test set accuracy: 0.387000\n"
     ]
    }
   ],
   "source": [
    "# 在测试集上评估\n",
    "# 在测试集上评估最好的softmax\n",
    "y_test_pred = best_softmax.predict(X_test)\n",
    "test_accuracy = np.mean(y_test == y_test_pred)\n",
    "print('softmax on raw pixels final test set accuracy: %f' % (test_accuracy, ))"
   ]
  },
  {
   "cell_type": "markdown",
   "metadata": {
    "tags": [
     "pdf-inline"
    ]
   },
   "source": [
    "**问题 2** - *对或错*\n",
    "\n",
    "假设总训练损失定义为所有训练样本中每个数据点损失的总和。可能会有新的数据点添加到训练集中，同时SVM损失保持不变，但是对于Softmax分类器的损失而言，情况并非如此。\n",
    "\n",
    "$\\color{blue}{\\textit 你的回答:}$ *对。*\n",
    "\n",
    "\n",
    "$\\color{blue}{\\textit 你的解释:}$ *SVM损失和Softmax损失的计算公式分别如下所示：*\n",
    "$$\n",
    "SVM\\ loss: L_i = \\sum_{j\\neq{y_i}}max(0,s_{j}-s_{y_i}+1)\n",
    "$$\n",
    "$$\n",
    "Softmax\\ loss: L_i = -log\\left(\\frac{e^{s_{y_i}}}{\\sum_{j}e^{s_j}}\\right)\n",
    "$$\n",
    "*如果有新的数据点添加到训练集中，只要对于错误标签的预测分数比对于正确标签的预测分数低1以上，那么其新添的SVM损失就为0，所以SVM损失就会保持不变。*\n",
    "\n",
    "*如果有新的数据点添加到训练集中，将影响每个类别的概率分布，而Softmax损失是基于类别概率计算而得的，所以Softmax损失一定会发生改变。*"
   ]
  },
  {
   "cell_type": "code",
   "execution_count": 15,
   "metadata": {},
   "outputs": [
    {
     "data": {
      "image/png": "[encoded data removed]",
      "text/plain": [
       "<Figure size 720x576 with 10 Axes>"
      ]
     },
     "metadata": {
      "needs_background": "light"
     },
     "output_type": "display_data"
    }
   ],
   "source": [
    "# 可视化每个类别的学习到的权重\n",
    "w = best_softmax.W[:-1,:] # strip out the bias\n",
    "w = w.reshape(32, 32, 3, 10)\n",
    "\n",
    "w_min, w_max = np.min(w), np.max(w)\n",
    "\n",
    "classes = ['plane', 'car', 'bird', 'cat', 'deer', 'dog', 'frog', 'horse', 'ship', 'truck']\n",
    "for i in range(10):\n",
    "    plt.subplot(2, 5, i + 1)\n",
    "    \n",
    "    # Rescale the weights to be between 0 and 255\n",
    "    wimg = 255.0 * (w[:, :, :, i].squeeze() - w_min) / (w_max - w_min)\n",
    "    plt.imshow(wimg.astype('uint8'))\n",
    "    plt.axis('off')\n",
    "    plt.title(classes[i])"
   ]
  },
  {
   "cell_type": "markdown",
   "metadata": {},
   "source": [
    "### Data for leaderboard\n",
    "这里额外提供了一组未给标签的测试集X，用于leaderborad上的竞赛。\n",
    "\n",
    "---\n",
    "提示：该题的目的是鼓励同学们探索能够提升模型性能的方法。"
   ]
  },
  {
   "cell_type": "code",
   "execution_count": 8,
   "metadata": {},
   "outputs": [],
   "source": [
    "# leaderboard的测试数据\n",
    "X = np.load(\"./input/X_3073.npy\")\n",
    "################################################################################\n",
    "# 需要完成的事情: \n",
    "# 找到更合适的softmax\n",
    "# 提示：如果你不想花时间，你也可以直接使用上面已经训练好的best_softmax。                   \n",
    "################################################################################\n",
    "# *****START OF YOUR CODE (DO NOT DELETE/MODIFY THIS LINE)*****\n",
    "softmax_leaderboard = best_softmax\n",
    "preds = softmax_leaderboard.predict(X)"
   ]
  },
  {
   "cell_type": "markdown",
   "metadata": {},
   "source": [
    "提醒：运行完下面代码之后，点击下面的submit，然后去leaderboard上查看你的成绩。本模型对应的成绩在phase3的leaderboard中。"
   ]
  },
  {
   "cell_type": "code",
   "execution_count": 9,
   "metadata": {},
   "outputs": [],
   "source": [
    "import os\n",
    "#输出格式\n",
    "def output_file(preds, phase_id=3):\n",
    "    path=os.getcwd()\n",
    "    if not os.path.exists(path + '/output/phase_{}'.format(phase_id)):\n",
    "        os.mkdir(path + '/output/phase_{}'.format(phase_id))\n",
    "    path=path + '/output/phase_{}/prediction.npy'.format(phase_id)\n",
    "    np.save(path,preds)\n",
    "def zip_fun(phase_id=3):\n",
    "    path=os.getcwd()\n",
    "    output_path = path + '/output'\n",
    "    files = os.listdir(output_path)\n",
    "    for _file in files:\n",
    "        if _file.find('zip') != -1:\n",
    "            os.remove(output_path + '/' + _file)\n",
    "    newpath=path+'/output/phase_{}'.format(phase_id)\n",
    "    os.chdir(newpath)\n",
    "    cmd = 'zip ../prediction_phase_{}.zip prediction.npy'.format(phase_id)\n",
    "    os.system(cmd)\n",
    "    os.chdir(path)\n",
    "output_file(preds)\n",
    "zip_fun()"
   ]
  }
 ],
 "metadata": {
  "kernelspec": {
   "display_name": "Python 3",
   "language": "python",
   "name": "python3"
  },
  "language_info": {
   "codemirror_mode": {
    "name": "ipython",
    "version": 3
   },
   "file_extension": ".py",
   "mimetype": "text/x-python",
   "name": "python",
   "nbconvert_exporter": "python",
   "pygments_lexer": "ipython3",
   "version": "3.9.5"
  },
  "vscode": {
   "interpreter": {
    "hash": "31f2aee4e71d21fbe5cf8b01ff0e069b9275f58929596ceb00d14d90e3e16cd6"
   }
  }
 },
 "nbformat": 4,
 "nbformat_minor": 4
}
